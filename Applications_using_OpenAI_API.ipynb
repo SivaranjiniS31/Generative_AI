{
  "cells": [
    {
      "cell_type": "markdown",
      "metadata": {
        "id": "vUehOJlORE-j"
      },
      "source": [
        "# Project 1: Blog Generator with OpenAI API\n",
        "\n",
        "- Build a Blog Generator using the powerful OpenAI API.\n",
        "- Our goal is to create an intelligent system capable of generating engaging and coherent blog content with just a prompt from the user.\n",
        "\n",
        "## Project Objectives\n",
        "\n",
        "By the end of this project, you will have created a Blog Generator that can:\n",
        "\n",
        "1. **Take User Input**: Accept user-defined prompts or topics to generate content about.\n",
        "2. **Generate Blog Posts**: Produce complete blog posts that are ready for publication, including titles, headers, and paragraphs.\n",
        "3. **Display Results**: Present the generated blog posts in a clear and organized format within Google Colab.\n",
        "\n",
        "## Before We Start\n",
        "\n",
        "Make sure you have:\n",
        "- A Google Colab account set up.\n",
        "- Basic knowledge of Python programming.\n",
        "- An OpenAI API key (you can obtain one from [OpenAI](https://platform.openai.com/account/api-keys)).\n",
        "\n"
      ]
    },
    {
      "cell_type": "markdown",
      "metadata": {
        "id": "NDlbXftjSHdL"
      },
      "source": [
        "# 2. Libraries import"
      ]
    },
    {
      "cell_type": "code",
      "execution_count": null,
      "metadata": {
        "id": "FcUdMROmBGtv"
      },
      "outputs": [],
      "source": []
    },
    {
      "cell_type": "code",
      "execution_count": null,
      "metadata": {
        "colab": {
          "base_uri": "https://localhost:8080/"
        },
        "id": "KTBw517ySLF2",
        "outputId": "af5929e4-8d58-47b1-9702-ab7ae2f06d0f"
      },
      "outputs": [
        {
          "name": "stdout",
          "output_type": "stream",
          "text": [
            "Collecting openai\n",
            "  Downloading openai-1.14.1-py3-none-any.whl (257 kB)\n",
            "\u001b[2K     \u001b[90m━━━━━━━━━━━━━━━━━━━━━━━━━━━━━━━━━━━━━━━━\u001b[0m \u001b[32m257.5/257.5 kB\u001b[0m \u001b[31m2.0 MB/s\u001b[0m eta \u001b[36m0:00:00\u001b[0m\n",
            "\u001b[?25hRequirement already satisfied: anyio<5,>=3.5.0 in /usr/local/lib/python3.10/dist-packages (from openai) (3.7.1)\n",
            "Requirement already satisfied: distro<2,>=1.7.0 in /usr/lib/python3/dist-packages (from openai) (1.7.0)\n",
            "Collecting httpx<1,>=0.23.0 (from openai)\n",
            "  Downloading httpx-0.27.0-py3-none-any.whl (75 kB)\n",
            "\u001b[2K     \u001b[90m━━━━━━━━━━━━━━━━━━━━━━━━━━━━━━━━━━━━━━━━\u001b[0m \u001b[32m75.6/75.6 kB\u001b[0m \u001b[31m9.1 MB/s\u001b[0m eta \u001b[36m0:00:00\u001b[0m\n",
            "\u001b[?25hRequirement already satisfied: pydantic<3,>=1.9.0 in /usr/local/lib/python3.10/dist-packages (from openai) (2.6.4)\n",
            "Requirement already satisfied: sniffio in /usr/local/lib/python3.10/dist-packages (from openai) (1.3.1)\n",
            "Requirement already satisfied: tqdm>4 in /usr/local/lib/python3.10/dist-packages (from openai) (4.66.2)\n",
            "Requirement already satisfied: typing-extensions<5,>=4.7 in /usr/local/lib/python3.10/dist-packages (from openai) (4.10.0)\n",
            "Requirement already satisfied: idna>=2.8 in /usr/local/lib/python3.10/dist-packages (from anyio<5,>=3.5.0->openai) (3.6)\n",
            "Requirement already satisfied: exceptiongroup in /usr/local/lib/python3.10/dist-packages (from anyio<5,>=3.5.0->openai) (1.2.0)\n",
            "Requirement already satisfied: certifi in /usr/local/lib/python3.10/dist-packages (from httpx<1,>=0.23.0->openai) (2024.2.2)\n",
            "Collecting httpcore==1.* (from httpx<1,>=0.23.0->openai)\n",
            "  Downloading httpcore-1.0.4-py3-none-any.whl (77 kB)\n",
            "\u001b[2K     \u001b[90m━━━━━━━━━━━━━━━━━━━━━━━━━━━━━━━━━━━━━━━━\u001b[0m \u001b[32m77.8/77.8 kB\u001b[0m \u001b[31m10.0 MB/s\u001b[0m eta \u001b[36m0:00:00\u001b[0m\n",
            "\u001b[?25hCollecting h11<0.15,>=0.13 (from httpcore==1.*->httpx<1,>=0.23.0->openai)\n",
            "  Downloading h11-0.14.0-py3-none-any.whl (58 kB)\n",
            "\u001b[2K     \u001b[90m━━━━━━━━━━━━━━━━━━━━━━━━━━━━━━━━━━━━━━━━\u001b[0m \u001b[32m58.3/58.3 kB\u001b[0m \u001b[31m7.8 MB/s\u001b[0m eta \u001b[36m0:00:00\u001b[0m\n",
            "\u001b[?25hRequirement already satisfied: annotated-types>=0.4.0 in /usr/local/lib/python3.10/dist-packages (from pydantic<3,>=1.9.0->openai) (0.6.0)\n",
            "Requirement already satisfied: pydantic-core==2.16.3 in /usr/local/lib/python3.10/dist-packages (from pydantic<3,>=1.9.0->openai) (2.16.3)\n",
            "Installing collected packages: h11, httpcore, httpx, openai\n",
            "Successfully installed h11-0.14.0 httpcore-1.0.4 httpx-0.27.0 openai-1.14.1\n"
          ]
        }
      ],
      "source": [
        "!pip install openai"
      ]
    },
    {
      "cell_type": "code",
      "execution_count": null,
      "metadata": {
        "id": "lYFNyycCQ2p-"
      },
      "outputs": [],
      "source": [
        "import os\n",
        "import openai\n",
        "\n",
        "from openai import OpenAI"
      ]
    },
    {
      "cell_type": "markdown",
      "metadata": {
        "id": "TwaQS_nXSQxf"
      },
      "source": [
        "# 3. Sending a first request to OpenAI API\n",
        "\n",
        "\n",
        "### 3.1 Setting up API Key"
      ]
    },
    {
      "cell_type": "code",
      "execution_count": null,
      "metadata": {
        "id": "btc16h6ySPFA"
      },
      "outputs": [],
      "source": [
        "os.environ[\"OPENAI_API_KEY\"] = \"<replace with your API key>\"\n",
        "client = OpenAI()"
      ]
    },
    {
      "cell_type": "markdown",
      "metadata": {
        "id": "i7Woy2IBTJ2Y"
      },
      "source": [
        "### 3.2 OpenAI available models"
      ]
    },
    {
      "cell_type": "code",
      "execution_count": null,
      "metadata": {
        "colab": {
          "base_uri": "https://localhost:8080/"
        },
        "id": "Yi2MpDWIS5UR",
        "outputId": "dbc376e5-70bd-43a0-9612-990f86d44c49"
      },
      "outputs": [
        {
          "name": "stdout",
          "output_type": "stream",
          "text": [
            "SyncPage[Model](data=[Model(id='gpt-3.5-turbo-1106', created=1698959748, object='model', owned_by='system'), Model(id='dall-e-3', created=1698785189, object='model', owned_by='system'), Model(id='gpt-3.5-turbo-16k-0613', created=1685474247, object='model', owned_by='openai'), Model(id='dall-e-2', created=1698798177, object='model', owned_by='system'), Model(id='text-embedding-3-large', created=1705953180, object='model', owned_by='system'), Model(id='whisper-1', created=1677532384, object='model', owned_by='openai-internal'), Model(id='tts-1-hd-1106', created=1699053533, object='model', owned_by='system'), Model(id='tts-1-hd', created=1699046015, object='model', owned_by='system'), Model(id='gpt-3.5-turbo', created=1677610602, object='model', owned_by='openai'), Model(id='gpt-3.5-turbo-0125', created=1706048358, object='model', owned_by='system'), Model(id='gpt-3.5-turbo-0301', created=1677649963, object='model', owned_by='openai'), Model(id='gpt-3.5-turbo-0613', created=1686587434, object='model', owned_by='openai'), Model(id='gpt-3.5-turbo-instruct-0914', created=1694122472, object='model', owned_by='system'), Model(id='tts-1', created=1681940951, object='model', owned_by='openai-internal'), Model(id='davinci-002', created=1692634301, object='model', owned_by='system'), Model(id='gpt-3.5-turbo-instruct', created=1692901427, object='model', owned_by='system'), Model(id='babbage-002', created=1692634615, object='model', owned_by='system'), Model(id='tts-1-1106', created=1699053241, object='model', owned_by='system'), Model(id='gpt-3.5-turbo-16k', created=1683758102, object='model', owned_by='openai-internal'), Model(id='text-embedding-ada-002', created=1671217299, object='model', owned_by='openai-internal'), Model(id='text-embedding-3-small', created=1705948997, object='model', owned_by='system')], object='list')\n"
          ]
        }
      ],
      "source": [
        "print(client.models.list())"
      ]
    },
    {
      "cell_type": "markdown",
      "metadata": {
        "id": "JtpBCMAeUF6o"
      },
      "source": [
        "Find about the Completion endpoint and all of its arguments: https://platform.openai.com/docs/api-reference/completions/create"
      ]
    },
    {
      "cell_type": "code",
      "execution_count": null,
      "metadata": {
        "colab": {
          "base_uri": "https://localhost:8080/"
        },
        "id": "Ch6chVYoTRyq",
        "outputId": "334b111f-89b1-4202-9c04-321b140c8bd8"
      },
      "outputs": [
        {
          "data": {
            "text/plain": [
              "Completion(id='cmpl-94OLrwJdRBxMdl3HythRHqiYHWafT', choices=[CompletionChoice(finish_reason='length', index=0, logprobs=None, text='\\n\\n1. Nutritional value: Apples are packed with nutrients such as fiber')], created=1710833947, model='gpt-3.5-turbo-instruct', object='text_completion', system_fingerprint=None, usage=CompletionUsage(completion_tokens=16, prompt_tokens=6, total_tokens=22))"
            ]
          },
          "execution_count": 8,
          "metadata": {},
          "output_type": "execute_result"
        }
      ],
      "source": [
        "client.completions.create(\n",
        "    model=\"gpt-3.5-turbo-instruct\",\n",
        "    prompt=\"Tell me the benefits of apple\",\n",
        ")"
      ]
    },
    {
      "cell_type": "markdown",
      "metadata": {
        "id": "9_OjVDWsUe4n"
      },
      "source": [
        "# 4. Building our Blog generator"
      ]
    },
    {
      "cell_type": "code",
      "execution_count": null,
      "metadata": {
        "id": "XW3sF_EmTbtr"
      },
      "outputs": [],
      "source": [
        "response = client.completions.create(\n",
        "    model=\"gpt-3.5-turbo-instruct\",\n",
        "    prompt=\"Benefits of Apple fruit for health\",\n",
        "    temperature=1,\n",
        "    max_tokens=700,\n",
        ")"
      ]
    },
    {
      "cell_type": "code",
      "execution_count": null,
      "metadata": {
        "colab": {
          "base_uri": "https://localhost:8080/"
        },
        "id": "3lwQgFr0hohP",
        "outputId": "f27dc3e6-2cec-4ea1-c906-a0b7eca15d6d"
      },
      "outputs": [
        {
          "name": "stdout",
          "output_type": "stream",
          "text": [
            "Completion(id='cmpl-94ONRXjYOmyUYchK2S3AdLSE7V7ar', choices=[CompletionChoice(finish_reason='stop', index=0, logprobs=None, text=\"\\n\\nGrand Theft Auto V, commonly known as GTA 5, is a popular action-adventure video game developed by Rockstar North and published by Rockstar Games. Since its release in 2013, it has become one of the best-selling video games of all time, with over 140 million copies sold worldwide. Its massive success can be attributed to its engaging storyline, stunning graphics, and open-world gameplay, among other factors.\\n\\nSet in the fictional city of Los Santos, inspired by Los Angeles, GTA 5 follows the story of three protagonists: Michael, Franklin, and Trevor, who are all career criminals. The game allows players to switch between these characters and explore the vast, detailed open-world map, completing missions and causing mayhem along the way.\\n\\nOne of the most notable features of GTA 5 is its open-world gameplay. Unlike previous installments in the series, the game offers players the freedom to explore the vast world on foot or in various vehicles such as cars, boats, and airplanes. The world is incredibly detailed, with a variety of landscapes, including mountains, beaches, and urban areas, making it feel alive and realistic.\\n\\nThe game also boasts a compelling storyline, with each character having their unique backgrounds and motivations. As players progress through the game, the story unfolds, revealing the connections between the three protagonists and their criminal activities. It's a rollercoaster of a story, filled with action, drama, and humor.\\n\\nIn addition to the main storyline, GTA 5 also offers an abundance of side missions, activities, and mini-games, keeping players entertained even after completing the main game. From parachuting off skyscrapers to participating in street races and completing heists, there is never a dull moment in the world of GTA 5.\\n\\nFurthermore, GTA 5 features an extensive online multiplayer mode, called GTA Online. It allows players to create their own customizable character and explore the world alongside other players. They can complete missions, participate in races and deathmatches, and even run their own criminal enterprises. With regular updates and new content, GTA Online continues to be a popular option for players long after the initial release of the game.\\n\\nBeyond its gameplay, GTA 5 has also received critical acclaim for its graphics and attention to detail. The game's developers put a lot of effort into creating a realistic and immersive world, from the bustling streets filled with pedestrians and vehicles to the stunning sunsets over the ocean. It's no wonder that the game has received numerous awards for its visuals.\\n\\nDespite its massive success, GTA 5 has also faced some controversies. The game's mature content, including violence, drugs, and sexual themes, has been a subject of criticism and led to it being banned in some countries. However, it hasn't stopped fans from enjoying the game and its unique take on the criminal underworld.\\n\\nIn conclusion, GTA 5 is a masterpiece of a game that continues to captivate players after eight years since its release. Its engaging storyline, open-world gameplay, and attention to detail make it stand out among other video games. With the recent release of updated versions for new consoles, it's safe to say that GTA 5's popularity will continue to grow, and we can't wait to see what the future holds for this iconic game.\")], created=1710834045, model='gpt-3.5-turbo-instruct', object='text_completion', system_fingerprint=None, usage=CompletionUsage(completion_tokens=660, prompt_tokens=7, total_tokens=667))\n"
          ]
        }
      ],
      "source": [
        "print(response)"
      ]
    },
    {
      "cell_type": "code",
      "execution_count": null,
      "metadata": {
        "colab": {
          "base_uri": "https://localhost:8080/"
        },
        "id": "R3YWusU2hMjB",
        "outputId": "b325153b-626f-430b-d0f3-008683227ff2"
      },
      "outputs": [
        {
          "name": "stdout",
          "output_type": "stream",
          "text": [
            "\n",
            "\n",
            "1. Rich in Nutrients \n",
            "Apples are packed with essential nutrients such as fiber, Vitamin C, and antioxidants. One medium-sized apple contains about 4 grams of fiber, a nutrient that helps improve digestion and keep you feeling full for longer.\n",
            "\n",
            "2. Boosts Heart Health \n",
            "The antioxidants found in apples such as flavonoids and polyphenols have been linked to a reduced risk of heart disease. These compounds help lower levels of inflammation in the body and prevent the buildup of plaque in the arteries.\n",
            "\n",
            "3. May Lower Risk of Diabetes \n",
            "Apples are low in calories and have a low glycemic index, which means they are slowly digested and absorbed, causing a gradual rise in blood sugar levels. This makes them a good choice for those with diabetes or those looking to prevent the development of the disease.\n",
            "\n",
            "4. Supports Weight Loss \n",
            "Due to their high fiber and water content, apples are a great choice for those trying to lose weight. They are low in calories but still provide a feeling of fullness, making it easier to control portion sizes and reduce overall calorie intake.\n",
            "\n",
            "5. Improves Digestion \n",
            "The high fiber content of apples helps improve digestion by promoting the growth of good bacteria in the gut and promoting regular bowel movements. This can help prevent constipation and other digestive issues.\n",
            "\n",
            "6. Strengthens the Immune System \n",
            "Apples are a great source of Vitamin C, which is known to boost the immune system. Regularly consuming apples may help protect against common illnesses such as colds and flu.\n",
            "\n",
            "7. May Reduce Risk of Cancer \n",
            "Some studies have found that the antioxidants in apples may help reduce the risk of certain types of cancer, such as lung and colorectal cancer. However, more research is needed in this area.\n",
            "\n",
            "8. Promotes Healthy Skin \n",
            "The antioxidants in apples also have anti-aging effects on the skin. They can help prevent damage from free radicals and promote collagen production, leading to healthier and younger-looking skin.\n",
            "\n",
            "9. Supports Brain Health \n",
            "The high levels of antioxidants in apples may also have a positive effect on brain health. They can help protect against oxidative stress, inflammation, and neurotoxicity, all of which are associated with cognitive decline.\n",
            "\n",
            "10. Versatile and Easy to Incorporate into Diet \n",
            "One of the best things about apples is that they are versatile and can be easily incorporated into your diet. They can be eaten whole, added to salads or oatmeal, used in baking, or made into a healthy snack like apple chips. This makes it easy to reap the numerous health benefits of apples on a regular basis.\n"
          ]
        }
      ],
      "source": [
        "print(response.choices[0].text)"
      ]
    },
    {
      "cell_type": "code",
      "execution_count": null,
      "metadata": {
        "id": "msr1bpSNUsZ9"
      },
      "outputs": [],
      "source": [
        "prompt = \"\"\"\n",
        "You are a copy writer with years of experience writing impactful blog that converge and help elevate brands.\n",
        "Your task is to write a blog on any topic system provides you with. Make sure to write in a format that works for Medium.\n",
        "Each blog should be separated into segments that have titles and subtitles. Each paragraph should be three sentences long.\n",
        "\n",
        "Topic: GTA 6\n",
        "Additiona pointers: None\n",
        "\"\"\"\n",
        "\n",
        "response = client.completions.create(\n",
        "    model=\"gpt-3.5-turbo-instruct\",\n",
        "    prompt=prompt,\n",
        "    temperature=1,\n",
        "    max_tokens=700,\n",
        ")"
      ]
    },
    {
      "cell_type": "code",
      "execution_count": null,
      "metadata": {
        "colab": {
          "base_uri": "https://localhost:8080/"
        },
        "id": "yX8hooEwVRBm",
        "outputId": "6b7c193c-221f-484d-cc3f-b41a431c6a38"
      },
      "outputs": [
        {
          "name": "stdout",
          "output_type": "stream",
          "text": [
            "\n",
            "\"GTA 6: The Highly Anticipated Sequel to the Thrilling Open-World Game\"\n",
            "\n",
            "Introduction:\n",
            "For avid gamers and fans of the Grand Theft Auto franchise, the release of GTA 6 has been long awaited. With the success and popularity of its predecessors, GTA 6 is expected to bring even more excitement, thrills, and unique gameplay to the series. In this blog, we will explore what we can expect from the highly anticipated sequel and why it has gamers everywhere on the edge of their seats.\n",
            "\n",
            "What We Know So Far:\n",
            "Rockstar Games, the developer of GTA, has been tight-lipped about the details of GTA 6. However, rumors and leaks have given us some insight into what we can expect. One of the most exciting rumors is that the game will feature multiple locations, including Vice City, Liberty City, and a new location - South America. This will add a new level of diversity and exploration to the game.\n",
            "\n",
            "Another rumor is that GTA 6 will have a female protagonist, a first for the series. This would be a refreshing change and bring a new perspective to the gameplay. It is also rumored that the game will have a more interactive and immersive world, with realistic weather effects and more dynamic NPCs (non-player characters).\n",
            "\n",
            "Gameplay and Mechanics:\n",
            "While the specific details of the gameplay and mechanics have not been confirmed, it is safe to assume that GTA 6 will stick to its winning formula of open-world gameplay, allowing players to explore and complete missions at their own pace. However, with advancements in technology and game design, we can expect even more realistic graphics and smoother gameplay.\n",
            "\n",
            "One exciting possibility is the use of virtual reality technology, which would make players feel like they are truly in the game. This could revolutionize the gaming experience and take immersion to a whole new level. Additionally, with the upcoming release of the PlayStation 5 and Xbox Series X, we can expect GTA 6 to take full advantage of these powerful consoles.\n",
            "\n",
            "Why We Can't Wait:\n",
            "Aside from the rumors and speculation, the sheer success and impact of previous GTA games have us counting down the days until the release of GTA 6. Grand Theft Auto V, the previous installment, is still one of the best-selling games of all time, with over 135 million copies sold. This sets the bar high for GTA 6, and fans are eagerly anticipating what Rockstar Games has in store for them.\n",
            "\n",
            "Conclusion:\n",
            "From the expected new locations and female protagonist to advancements in gameplay and technology, there is no doubt that GTA 6 will be a game changer in the open-world genre. While we may have to wait a little longer to get our hands on it, it will undoubtedly be worth it for the immersive and thrilling experience it will provide. Keep an eye out for more announcements from Rockstar Games and get ready to dive into another epic adventure in the world of Grand Theft Auto.\n"
          ]
        }
      ],
      "source": [
        "print(response.choices[0].text)"
      ]
    },
    {
      "cell_type": "markdown",
      "metadata": {
        "id": "gdGX-w1CVxGx"
      },
      "source": [
        "### 4.2 Accepting user inputs"
      ]
    },
    {
      "cell_type": "code",
      "execution_count": null,
      "metadata": {
        "colab": {
          "base_uri": "https://localhost:8080/"
        },
        "id": "SFhM14-NVUqJ",
        "outputId": "9a417bb8-441b-49f1-d6e8-558f429dd7b2"
      },
      "outputs": [
        {
          "name": "stdout",
          "output_type": "stream",
          "text": [
            "Enter a topic: Health\n",
            "Enter any additional pointers, if any: Heart diseases\n",
            "\n",
            "Title: Heart Diseases: Understanding the Silent Killer\n",
            "\n",
            "Subtitles:\n",
            "1. The Importance of Heart Health\n",
            "2. Common Types of Heart Diseases\n",
            "3. Warning Signs and Prevention\n",
            "4. Taking Control of Your Heart Health\n",
            "\n",
            "Paragraph 1:\n",
            "Maintaining good health is crucial for living a long and happy life. When we think about health, we often focus on physical appearance and external health concerns, but what about our internal health? Our heart is one of the most vital organs in our body, and maintaining its health should be a top priority.\n",
            "\n",
            "Subtitle 1: The Importance of Heart Health\n",
            "\n",
            "Paragraph 2:\n",
            "Heart diseases are the leading cause of death worldwide. According to the World Health Organization, an estimated 17.9 million people die each year due to heart diseases. This makes it essential to understand the importance of taking care of our heart and the impact of neglecting it.\n",
            "\n",
            "Paragraph 3:\n",
            "Our heart works tirelessly to pump blood throughout our body, delivering oxygen and nutrients to our cells. A healthy heart means a healthy body, so it's essential to take proactive steps to keep our heart strong and functioning correctly.\n",
            "\n",
            "Subtitle 2: Common Types of Heart Diseases\n",
            "\n",
            "Paragraph 4:\n",
            "There are various types of heart diseases that can affect our heart's ability to function correctly. Some of the most common types include coronary artery disease, heart failure, and heart attack. These conditions can be caused by factors such as high blood pressure, high cholesterol, and an unhealthy lifestyle.\n",
            "\n",
            "Paragraph 5:\n",
            "Coronary artery disease occurs when the arteries that supply blood to the heart become narrow or blocked, reducing blood flow and increasing the risk of a heart attack. Heart failure happens when the heart cannot pump enough blood to meet the body's needs. A heart attack occurs when there is a blockage in the artery supplying blood to the heart, resulting in damage to the heart muscle.\n",
            "\n",
            "Subtitle 3: Warning Signs and Prevention\n",
            "\n",
            "Paragraph 6:\n",
            "Knowing the warning signs of a heart condition can save your life. Some common symptoms include chest pain or discomfort, shortness of breath, fatigue, and dizziness. If you experience any of these symptoms, it's essential to seek medical attention immediately.\n",
            "\n",
            "Paragraph 7:\n",
            "Prevention is better than cure when it comes to heart diseases. But how can we prevent something that we can't see? The key is to maintain a healthy lifestyle. This includes regular exercise, a balanced diet, avoiding tobacco and excessive alcohol consumption, and managing stress.\n",
            "\n",
            "Subtitle 4: Taking Control of Your Heart Health\n",
            "\n",
            "Paragraph 8:\n",
            "It's never too late to take control of your heart health. If you have a family history of heart diseases or already have a pre-existing condition, it's essential to prioritize your heart health. Make sure to schedule regular check-ups with your doctor and follow a healthy lifestyle that works for you.\n",
            "\n",
            "Paragraph 9:\n",
            "You can also incorporate heart-healthy foods into your diet, such as leafy greens, fish, and whole grains. Also, aim to be physically active for at least 30 minutes each day. Every small change you make can have a significant impact on your heart health.\n",
            "\n",
            "Conclusion:\n",
            "\n",
            "In conclusion, our heart is a vital organ, and taking care of it should be a top priority. By understanding the importance of heart health, the common types of heart diseases, and how to prevent them, we can take control of our heart health and live a healthier and longer life. Remember, a healthy heart means a\n"
          ]
        }
      ],
      "source": [
        "topic = input(\"Enter a topic: \")\n",
        "additional_pointers = input(\"Enter any additional pointers, if any: \")\n",
        "\n",
        "prompt = f\"\"\"\n",
        "You are a copy writer with years of experience writing impactful blog that converge and help elevate brands.\n",
        "Your task is to write a blog on any topic system provides you with. Make sure to write in a format that works for Medium.\n",
        "Each blog should be separated into segments that have titles and subtitles. Each paragraph should be three sentences long.\n",
        "\n",
        "Topic: {topic}\n",
        "Additiona pointers: {additional_pointers}\n",
        "\"\"\"\n",
        "\n",
        "response = client.completions.create(\n",
        "    model=\"gpt-3.5-turbo-instruct\",\n",
        "    prompt=prompt,\n",
        "    temperature=1,\n",
        "    max_tokens=700,\n",
        ")\n",
        "\n",
        "print(response.choices[0].text)"
      ]
    },
    {
      "cell_type": "code",
      "execution_count": null,
      "metadata": {
        "id": "oZB3R8y8V_jg"
      },
      "outputs": [],
      "source": []
    },
    {
      "cell_type": "markdown",
      "metadata": {
        "id": "W0opvS6fh-iU"
      },
      "source": [
        "# Project 2: SQL Commands Generator with OpenAI API\n",
        "\n",
        "- Build an SQL Command Generator using the powerful OpenAI API.\n",
        "- Creates an SQL Query for questions asked in English\n",
        "- Inputs:\n",
        "    - System Prompt - table schema\n",
        "    - User Prompt - Query in English\n",
        "\n"
      ]
    },
    {
      "cell_type": "markdown",
      "metadata": {
        "id": "sfYR1PmLiy92"
      },
      "source": [
        "SYSTEM\n",
        "Given the following SQL tables, your job is to write queries given a user’s request.\n",
        "    \n",
        "    CREATE TABLE Orders (\n",
        "      OrderID int,\n",
        "      CustomerID int,\n",
        "      OrderDate datetime,\n",
        "      OrderTime varchar(8),\n",
        "      PRIMARY KEY (OrderID)\n",
        "    );\n",
        "    \n",
        "    CREATE TABLE OrderDetails (\n",
        "      OrderDetailID int,\n",
        "      OrderID int,\n",
        "      ProductID int,\n",
        "      Quantity int,\n",
        "      PRIMARY KEY (OrderDetailID)\n",
        "    );\n",
        "    \n",
        "    CREATE TABLE Products (\n",
        "      ProductID int,\n",
        "      ProductName varchar(50),\n",
        "      Category varchar(50),\n",
        "      UnitPrice decimal(10, 2),\n",
        "      Stock int,\n",
        "      PRIMARY KEY (ProductID)\n",
        "    );\n",
        "    \n",
        "    CREATE TABLE Customers (\n",
        "      CustomerID int,\n",
        "      FirstName varchar(50),\n",
        "      LastName varchar(50),\n",
        "      Email varchar(100),\n",
        "      Phone varchar(20),\n",
        "      PRIMARY KEY (CustomerID)\n",
        "    );\n",
        "USER\n",
        "Write a SQL query which computes the average total order value for all orders on 2023-04-01."
      ]
    },
    {
      "cell_type": "code",
      "execution_count": null,
      "metadata": {
        "id": "oOCkT5sviqQ-"
      },
      "outputs": [],
      "source": [
        "from openai import OpenAI\n",
        "client = OpenAI()\n",
        "\n",
        "response = client.chat.completions.create(\n",
        "  model=\"gpt-3.5-turbo-16k\",\n",
        "  messages=[\n",
        "    {\n",
        "      \"role\": \"system\",\n",
        "      \"content\": \"Given the following SQL tables, your job is to write queries given a user’s request.\\n    \\n    CREATE TABLE Orders (\\n      OrderID int,\\n      CustomerID int,\\n      OrderDate datetime,\\n      OrderTime varchar(8),\\n      PRIMARY KEY (OrderID)\\n    );\\n    \\n    CREATE TABLE OrderDetails (\\n      OrderDetailID int,\\n      OrderID int,\\n      ProductID int,\\n      Quantity int,\\n      PRIMARY KEY (OrderDetailID)\\n    );\\n    \\n    CREATE TABLE Products (\\n      ProductID int,\\n      ProductName varchar(50),\\n      Category varchar(50),\\n      UnitPrice decimal(10, 2),\\n      Stock int,\\n      PRIMARY KEY (ProductID)\\n    );\\n    \\n    CREATE TABLE Customers (\\n      CustomerID int,\\n      FirstName varchar(50),\\n      LastName varchar(50),\\n      Email varchar(100),\\n      Phone varchar(20),\\n      PRIMARY KEY (CustomerID)\\n    );\"\n",
        "    },\n",
        "    {\n",
        "      \"role\": \"user\",\n",
        "      \"content\": \"Write a SQL query which computes the average total order value for all orders on 2023-04-01.\"\n",
        "    }\n",
        "  ],\n",
        "  temperature=0.0,\n",
        "  max_tokens=64,\n",
        "  top_p=1\n",
        ")"
      ]
    },
    {
      "cell_type": "code",
      "execution_count": null,
      "metadata": {
        "colab": {
          "base_uri": "https://localhost:8080/"
        },
        "id": "56vWgQzpi33s",
        "outputId": "4cb81e4e-4493-4a1a-e0cf-d86d57f6a2c3"
      },
      "outputs": [
        {
          "name": "stdout",
          "output_type": "stream",
          "text": [
            "SELECT AVG(total_order_value) AS average_total_order_value\n",
            "FROM (\n",
            "  SELECT o.OrderID, SUM(od.Quantity * p.UnitPrice) AS total_order_value\n",
            "  FROM Orders o\n",
            "  INNER JOIN OrderDetails od ON o.OrderID = od.OrderID\n",
            "  INNER JOIN Products p ON od.ProductID = p\n"
          ]
        }
      ],
      "source": [
        "print(response.choices[0].message.content)"
      ]
    },
    {
      "cell_type": "code",
      "execution_count": null,
      "metadata": {
        "id": "LP0f-pxojEG6"
      },
      "outputs": [],
      "source": []
    }
  ],
  "metadata": {
    "accelerator": "GPU",
    "colab": {
      "gpuType": "T4",
      "provenance": []
    },
    "kernelspec": {
      "display_name": "Python 3",
      "name": "python3"
    },
    "language_info": {
      "name": "python"
    }
  },
  "nbformat": 4,
  "nbformat_minor": 0
}
